{
 "cells": [
  {
   "cell_type": "markdown",
   "id": "22c36be7",
   "metadata": {},
   "source": [
    "# BMI3 Group5 Project4: Domain-aware aligner"
   ]
  },
  {
   "cell_type": "markdown",
   "id": "b74ea49f",
   "metadata": {},
   "source": [
    "## find potential domain"
   ]
  },
  {
   "cell_type": "code",
   "execution_count": 1,
   "id": "24330700",
   "metadata": {},
   "outputs": [],
   "source": [
    "# find all possible local alignment"
   ]
  },
  {
   "cell_type": "code",
   "execution_count": 2,
   "id": "883f6a01",
   "metadata": {},
   "outputs": [],
   "source": [
    "PAM250 = {\n",
    "'A': {'A': 2,  'C': -2, 'D':  0, 'E': 0, 'F': -3, 'G':  1, 'H': -1, 'I': -1, 'K': -1, 'L': -2, 'M': -1, 'N':  0, 'P':  1, 'Q':  0, 'R': -2, 'S':  1, 'T':  1, 'V':  0, 'W': -6, 'Y': -3},\n",
    "'C': {'A': -2, 'C': 12, 'D': -5, 'E':-5, 'F': -4, 'G': -3, 'H': -3, 'I': -2, 'K': -5, 'L': -6, 'M': -5, 'N': -4, 'P': -3, 'Q': -5, 'R': -4, 'S':  0, 'T': -2, 'V': -2, 'W': -8, 'Y':  0},\n",
    "'D': {'A': 0,  'C': -5, 'D':  4, 'E': 3, 'F': -6, 'G':  1, 'H':  1, 'I': -2, 'K':  0, 'L': -4, 'M': -3, 'N':  2, 'P': -1, 'Q':  2, 'R': -1, 'S':  0, 'T':  0, 'V': -2, 'W': -7, 'Y': -4},\n",
    "'E': {'A': 0,  'C': -5, 'D':  3, 'E': 4, 'F': -5, 'G':  0, 'H':  1, 'I': -2, 'K':  0, 'L': -3, 'M': -2, 'N':  1, 'P': -1, 'Q':  2, 'R': -1, 'S':  0, 'T':  0, 'V': -2, 'W': -7, 'Y': -4},\n",
    "'F': {'A': -3, 'C': -4, 'D': -6, 'E':-5, 'F':  9, 'G': -5, 'H': -2, 'I':  1, 'K': -5, 'L':  2, 'M':  0, 'N': -3, 'P': -5, 'Q': -5, 'R': -4, 'S': -3, 'T': -3, 'V': -1, 'W':  0, 'Y':  7},\n",
    "'G': {'A': 1,  'C': -3, 'D':  1, 'E': 0, 'F': -5, 'G':  5, 'H': -2, 'I': -3, 'K': -2, 'L': -4, 'M': -3, 'N':  0, 'P':  0, 'Q': -1, 'R': -3, 'S':  1, 'T':  0, 'V': -1, 'W': -7, 'Y': -5},\n",
    "'H': {'A': -1, 'C': -3, 'D':  1, 'E': 1, 'F': -2, 'G': -2, 'H':  6, 'I': -2, 'K':  0, 'L': -2, 'M': -2, 'N':  2, 'P':  0, 'Q':  3, 'R':  2, 'S': -1, 'T': -1, 'V': -2, 'W': -3, 'Y':  0},\n",
    "'I': {'A': -1, 'C': -2, 'D': -2, 'E':-2, 'F':  1, 'G': -3, 'H': -2, 'I':  5, 'K': -2, 'L':  2, 'M':  2, 'N': -2, 'P': -2, 'Q': -2, 'R': -2, 'S': -1, 'T':  0, 'V':  4, 'W': -5, 'Y': -1},\n",
    "'K': {'A': -1, 'C': -5, 'D':  0, 'E': 0, 'F': -5, 'G': -2, 'H':  0, 'I': -2, 'K':  5, 'L': -3, 'M':  0, 'N':  1, 'P': -1, 'Q':  1, 'R':  3, 'S':  0, 'T':  0, 'V': -2, 'W': -3, 'Y': -4},\n",
    "'L': {'A': -2, 'C': -6, 'D': -4, 'E':-3, 'F':  2, 'G': -4, 'H': -2, 'I':  2, 'K': -3, 'L':  6, 'M':  4, 'N': -3, 'P': -3, 'Q': -2, 'R': -3, 'S': -3, 'T': -2, 'V':  2, 'W': -2, 'Y': -1},\n",
    "'M': {'A': -1, 'C': -5, 'D': -3, 'E':-2, 'F':  0, 'G': -3, 'H': -2, 'I':  2, 'K':  0, 'L':  4, 'M':  6, 'N': -2, 'P': -2, 'Q': -1, 'R':  0, 'S': -2, 'T': -1, 'V':  2, 'W': -4, 'Y': -2},\n",
    "'N': {'A': 0,  'C': -4, 'D':  2, 'E': 1, 'F': -3, 'G':  0, 'H':  2, 'I': -2, 'K':  1, 'L': -3, 'M': -2, 'N':  2, 'P':  0, 'Q':  1, 'R':  0, 'S':  1, 'T':  0, 'V': -2, 'W': -4, 'Y': -2},\n",
    "'P': {'A': 1,  'C': -3, 'D': -1, 'E':-1, 'F': -5, 'G':  0, 'H':  0, 'I': -2, 'K': -1, 'L': -3, 'M': -2, 'N':  0, 'P':  6, 'Q':  0, 'R':  0, 'S':  1, 'T':  0, 'V': -1, 'W': -6, 'Y': -5},\n",
    "'Q': {'A': 0,  'C': -5, 'D':  2, 'E': 2, 'F': -5, 'G': -1, 'H':  3, 'I': -2, 'K':  1, 'L': -2, 'M': -1, 'N':  1, 'P':  0, 'Q':  4, 'R':  1, 'S': -1, 'T': -1, 'V': -2, 'W': -5, 'Y': -4},\n",
    "'R': {'A': -2, 'C': -4, 'D': -1, 'E':-1, 'F': -4, 'G': -3, 'H':  2, 'I': -2, 'K':  3, 'L': -3, 'M':  0, 'N':  0, 'P':  0, 'Q':  1, 'R':  6, 'S':  0, 'T': -1, 'V': -2, 'W':  2, 'Y': -4},\n",
    "'S': {'A': 1,  'C':  0, 'D':  0, 'E': 0, 'F': -3, 'G':  1, 'H': -1, 'I': -1, 'K':  0, 'L': -3, 'M': -2, 'N':  1, 'P':  1, 'Q': -1, 'R':  0, 'S':  2, 'T':  1, 'V': -1, 'W': -2, 'Y': -3},\n",
    "'T': {'A': 1,  'C': -2, 'D':  0, 'E': 0, 'F': -3, 'G':  0, 'H': -1, 'I':  0, 'K':  0, 'L': -2, 'M': -1, 'N':  0, 'P':  0, 'Q': -1, 'R': -1, 'S':  1, 'T':  3, 'V':  0, 'W': -5, 'Y': -3},\n",
    "'V': {'A': 0,  'C': -2, 'D': -2, 'E':-2, 'F': -1, 'G': -1, 'H': -2, 'I':  4, 'K': -2, 'L':  2, 'M':  2, 'N': -2, 'P': -1, 'Q': -2, 'R': -2, 'S': -1, 'T':  0, 'V':  4, 'W': -6, 'Y': -2},\n",
    "'W': {'A': -6, 'C': -8, 'D': -7, 'E':-7, 'F':  0, 'G': -7, 'H': -3, 'I': -5, 'K': -3, 'L': -2, 'M': -4, 'N': -4, 'P': -6, 'Q': -5, 'R':  2, 'S': -2, 'T': -5, 'V': -6, 'W': 17, 'Y':  0},\n",
    "'Y': {'A': -3, 'C':  0, 'D': -4, 'E':-4, 'F':  7, 'G': -5, 'H':  0, 'I': -1, 'K': -4, 'L': -1, 'M': -2, 'N': -2, 'P': -5, 'Q': -4, 'R': -4, 'S': -3, 'T': -3, 'V': -2, 'W':  0, 'Y': 10}}\n"
   ]
  },
  {
   "cell_type": "code",
   "execution_count": 3,
   "id": "c820b207",
   "metadata": {},
   "outputs": [],
   "source": [
    "import blosum as bl\n",
    "mat = bl.BLOSUM(62)    \n",
    "valueXY = mat[\"XY\"]"
   ]
  },
  {
   "cell_type": "code",
   "execution_count": 4,
   "id": "9b785f8c",
   "metadata": {},
   "outputs": [],
   "source": [
    "def get_tail(dp):\n",
    "    from functools import reduce\n",
    "    max_score=reduce(lambda x,y:[max(x+y)],dp)[0]\n",
    "    l1,l2=len(dp)-1,len(dp[0])-1\n",
    "    all_position2=(lambda x,y :[(z0,z1) for z0 in range(x) for z1 in range(y)])(l1+1,l2+1)[:0:-1]\n",
    "    for i,j in all_position2:\n",
    "        if dp[i][j]==max_score:\n",
    "            tail=(i,j)\n",
    "            break\n",
    "    return tail\n",
    "\n",
    "def get_similar_region(dp,memory,s1,s2,current=None):\n",
    "    global score,length,chain\n",
    "    l1,l2=len(dp),len(dp[0])\n",
    "    rs1,rs2='',''\n",
    "    if not current:\n",
    "        current=(l1-1,l2-1)\n",
    "    last=memory[current]\n",
    "    chain=[]\n",
    "    score=[]\n",
    "    while last != (0,0):\n",
    "        last=memory[current]\n",
    "        cm,cn=current\n",
    "        lm,ln=last\n",
    "        chain.append(current)\n",
    "        score.append(dp[cm][cn])\n",
    "        rs1=rs1+'-' if lm==cm else rs1+s1[current[0]-1]\n",
    "        rs2=rs2+'-' if ln==cn else rs2+s2[current[1]-1]\n",
    "        current=last\n",
    "#     print('\\033[91m>>>local alignment result\\033[0m')\n",
    "#     print(rs1[::-1])\n",
    "#     print(rs2[::-1])\n",
    "    \n",
    "    length=len(chain)\n",
    "    increase_windows,increase_windows_index=[],[]\n",
    "    tmp=[]\n",
    "    for i in range(length):\n",
    "        if not tmp:\n",
    "            tmp.append(chain[i])\n",
    "            start=i\n",
    "        else:\n",
    "            if score[i-1]>=score[i]:\n",
    "                tmp.append(chain[i])\n",
    "                if i==length-1:\n",
    "                    increase_windows.append(tmp)\n",
    "                    increase_windows_index.append((start,i))                    \n",
    "            else:\n",
    "                if i>start+1:\n",
    "                    increase_windows_index.append((start,i-1))\n",
    "                    increase_windows.append(tmp)\n",
    "                tmp=[]\n",
    "\n",
    "    windows=increase_windows_index[0]\n",
    "    for i in range(1,len(increase_windows_index)-1):\n",
    "        s,e=windows\n",
    "        ns,ne=increase_windows_index[i]\n",
    "        if ns-e<(e-s)/10 or ns-e<=2:\n",
    "            windows=(s,ne)\n",
    "        else:\n",
    "            break\n",
    "    res1,res2='',''\n",
    "    s,e=windows\n",
    "    lm,ln=None,None\n",
    "    for m,n in chain[s:e]:\n",
    "        res1=res1+'-' if lm==cm else res1+s1[m-1]\n",
    "        res2=res2+'-' if ln==cn else res2+s2[n-1]\n",
    "#         res1=res1+s1[m-1]\n",
    "#         res2=res2+s2[n-1]    \n",
    "        lm,ln=m,n\n",
    "    cut_site={'head':chain[e],'tail':chain[s]}\n",
    "    ns1=s1[0:chain[e][0]]+s1[chain[s][0]:]\n",
    "    ns2=s2[0:chain[e][1]]+s2[chain[s][1]:]\n",
    "    print('\\033[91mdetect domain\\033[0m')\n",
    "    print(res1[::-1])\n",
    "    print(res2[::-1])\n",
    "#     print('ns1:',ns1)\n",
    "#     print('ns2:',ns2)\n",
    "    return ns1,ns2"
   ]
  },
  {
   "cell_type": "code",
   "execution_count": 5,
   "id": "6343a3d7",
   "metadata": {},
   "outputs": [
    {
     "name": "stdout",
     "output_type": "stream",
     "text": [
      "\u001b[91m>>>alignment result\u001b[0m\n",
      "YYKNMWIRVMSKWVSSWYRFFLPWCYYPSVCKCEFPCTMLGEEQGIA-NLGDKISPKNKS------LINNHDQMTDNLCKYWVKNGWDM---\n",
      "----------------YYKNMLPWCYYP-----VFPCTMLGEEQGIAPPIGLKISPKNKSYPPPDHMINNHDQETDNCCKYWVKNGYDRYPP\n",
      "\u001b[91mdetect domain\u001b[0m\n",
      "LINNHDQMTDNLCKYWVKNGWDM\n",
      "MINNHDQETDNCCKYWVKNGYDR\n",
      "\u001b[91m>>>alignment result\u001b[0m\n",
      "YYKNMWIRVMSKWVSSWYRFFLPWCYYPSVCKCEFPCTMLGEEQGIA-NLGDKISPKNKS---------\n",
      "----------------YYKNMLPWCYYP-----VFPCTMLGEEQGIAPPIGLKISPKNKSYPPPDHYPP\n",
      "\u001b[91mdetect domain\u001b[0m\n",
      "FPCTMLGEEQGIAANLGDKISPKNKS\n",
      "FPCTMLGEEQGIAPPIGLKISPKNKS\n",
      "\u001b[91m>>>alignment result\u001b[0m\n",
      "YYKNMWIRVMSKWVSSWYRFFLPWCYY----PSVCKCE\n",
      "----------------YYKNMLPWCYYPVYPPPDHYPP\n",
      "\u001b[91mdetect domain\u001b[0m\n",
      "FLPWCYYP\n",
      "MLPWCYYP\n",
      "\u001b[91m>>>time report\u001b[0m\n",
      "CPU times: user 28.8 ms, sys: 1.47 ms, total: 30.3 ms\n",
      "Wall time: 29.6 ms\n"
     ]
    }
   ],
   "source": [
    "%%time\n",
    "def trace_alignment(dp,memory,s1,s2,current=None):\n",
    "    l1,l2=len(dp),len(dp[0])\n",
    "    rs1,rs2='',''\n",
    "    if not current:\n",
    "        current=(l1-1,l2-1)\n",
    "    last=memory[current]\n",
    "    while last != (0,0):\n",
    "        last=memory[current]\n",
    "        cm,cn=current\n",
    "        lm,ln=last\n",
    "        rs1=rs1+'-' if lm==cm else rs1+s1[current[0]-1]\n",
    "        rs2=rs2+'-' if ln==cn else rs2+s2[current[1]-1]\n",
    "        current=last\n",
    "    print('\\033[91m>>>alignment result\\033[0m')\n",
    "    print(rs1[::-1])\n",
    "    print(rs2[::-1])\n",
    "\n",
    "def local_pairwise_align(s1:str,s2:str,scoring_matrix='BLOSUM62'):\n",
    "    l1,l2=len(s1),len(s2)\n",
    "    dp=[[[float('-inf')] for _ in range(l2+1)] for _ in range(l1+1)]\n",
    "    dp[0][0]=0\n",
    "    memory={}\n",
    "\n",
    "    assert scoring_matrix in ['BLOSUM62','PAM250'], 'scoring_matrix should be one of BLOSUM62 and PAM250'\n",
    "#     print('scoring matrix is {}'.format(scoring_matrix))\n",
    "    if scoring_matrix=='BLOSUM62':\n",
    "        gop,gep=-11,-1\n",
    "        def get_map_score(a1,a2):\n",
    "            return mat[a1+a2]\n",
    "    elif scoring_matrix=='PAM250':\n",
    "        gop,gep=-12,-4\n",
    "        def get_map_score(a1,a2):\n",
    "            return PAM250[a1][a2]\n",
    "\n",
    "    def get_score(m,n,pm,pn):\n",
    "        score=0\n",
    "        if pm==m-1 and pn==n-1:\n",
    "            score=get_map_score(s1[pm],s2[pn])\n",
    "        elif pm==m:\n",
    "            score=gop if (not (pm,pn) in memory) or memory[(pm,pn)][0]!=m else gep\n",
    "        elif pn==n:\n",
    "            score=gop if (not (pm,pn) in memory) or memory[(pm,pn)][1]!=n else gep\n",
    "        if dp[pm][pn]+score>0:\n",
    "            return dp[pm][pn]+score \n",
    "        else:\n",
    "            return 0\n",
    "    \n",
    "    def get_possible_previous_position(i,j):\n",
    "        if i==0:\n",
    "            return [(i,j-1)]\n",
    "        elif j==0:\n",
    "            return [(i-1,j)]\n",
    "        else:\n",
    "            return [(i-1,j-1),(i-1,j),(i,j-1)]\n",
    "       \n",
    "    all_position=(lambda x,y :[(z0,z1) for z0 in range(x) for z1 in range(y)])(l1+1,l2+1)[1:]\n",
    "    for m,n in all_position:\n",
    "        previous=get_possible_previous_position(m,n)\n",
    "        choice=[]\n",
    "        for pm,pn in previous:\n",
    "            score=get_score(m,n,pm,pn)\n",
    "            choice.append((score,(pm,pn)))\n",
    "        choice.sort(key=lambda tup: tup[0], reverse=True)\n",
    "        lm,ln=choice[0][1][0],choice[0][1][1]\n",
    "        dp[m][n]=choice[0][0]\n",
    "        memory[(m,n)]=choice[0][1]\n",
    "\n",
    "    # code above form dp and memory\n",
    "#    print('\\033[91m>>>local optimal score:',dp[-1][-1],'\\033[0m')\n",
    "    trace_alignment(dp,memory,s1,s2)\n",
    "    ns1,ns2=get_similar_region(dp,memory,s1,s2,current=get_tail(dp))\n",
    "    # Iterate to find all domains\n",
    "    if len(ns1)>20 and len(ns2)>20:\n",
    "        dp,memory=local_pairwise_align(ns1,ns2,scoring_matrix='PAM250')\n",
    "    return dp, memory\n",
    "\n",
    "test_case={\n",
    "    's1':'YYKNMWIRVMSKWVSSWYRFFLPWCYYPSVCKCEFPCTMLGEEQGIANLGDKISPKNKSLINNHDQMTDNLCKYWVKNGWDM',\n",
    "    's2':'YYKNMLPWCYYPVFPCTMLGEEQGIAPPIGLKISPKNKSYPPPDHMINNHDQETDNCCKYWVKNGYDRYPP',\n",
    "    'scoring_matrix':'PAM250',\n",
    "}\n",
    "\n",
    "dp,memory=local_pairwise_align(**test_case)\n",
    "\n",
    "print('\\033[91m>>>time report\\033[0m')"
   ]
  },
  {
   "cell_type": "code",
   "execution_count": 6,
   "id": "3ced2bbd",
   "metadata": {},
   "outputs": [],
   "source": [
    "# AAAAAAAAAAAAAAAAAAAACCCCCCCCCCCCCCCCCCCCCCCCCVVVVVVVVVVVVVVVVVVVVVVVVV\n",
    "test_case_swapdomain={\n",
    "'s1':'FPCTMLGEEQGIANLGDKISPPKYKPPPWWWWWCCCCCCCCCCCCCCCCCCCCCCCCVVVVVVVVVVVVVVVVVVVVVVVV',\n",
    "'s2':'FPCTMLGEEQGIAPPIGLKISPKPPPKYKPPWWWWWVVVVVVVVVVVVVVVVVVVVVVVVWWVCWWCCCCCCCCCCCCCCCCCCCCCCCC',\n",
    "'scoring_matrix':'PAM250'\n",
    "}"
   ]
  },
  {
   "cell_type": "code",
   "execution_count": 7,
   "id": "efde804f",
   "metadata": {},
   "outputs": [
    {
     "name": "stdout",
     "output_type": "stream",
     "text": [
      "\u001b[91m>>>alignment result\u001b[0m\n",
      "FPCTMLGEEQGIA-NLGDKIS---PPKYKPPPWWWW-----------------------------WCCCCCCCCCCCCCCCCCCCCCCCCVVVVVVVVVVVVVVVVVVVVVVVV\n",
      "FPCTMLGEEQGIAPPIGLKISPKPPPKYKPPWWWWWVVVVVVVVVVVVVVVVVVVVVVVVWWVCWWCCCCCCCCCCCCCCCCCCCCCCCC------------------------\n",
      "\u001b[91mdetect domain\u001b[0m\n",
      "WCCCCCCCCCCCCCCCCCCCCCCCC\n",
      "WCCCCCCCCCCCCCCCCCCCCCCCC\n",
      "\u001b[91m>>>alignment result\u001b[0m\n",
      "FPCTMLGEEQGIA-NLGDKIS---PPKYKPPPWWWWVVVVVVVVVVVVVVVVVVVVVVVV-----\n",
      "FPCTMLGEEQGIAPPIGLKISPKPPPKYKPPWWWWWVVVVVVVVVVVVVVVVVVVVVVVVWWVCW\n",
      "\u001b[91mdetect domain\u001b[0m\n",
      "PPKYKPPPWWWWVVVVVVVVVVVVVVVVVVVVVVVV\n",
      "PPKYKPPWWWWWVVVVVVVVVVVVVVVVVVVVVVVV\n"
     ]
    }
   ],
   "source": [
    "dp,memory=local_pairwise_align(**test_case_swapdomain)"
   ]
  },
  {
   "cell_type": "code",
   "execution_count": 8,
   "id": "5923a165",
   "metadata": {},
   "outputs": [
    {
     "name": "stdout",
     "output_type": "stream",
     "text": [
      "\u001b[91m>>>alignment result\u001b[0m\n",
      "FPCTMLGEEQGIA-NLGDKIS---PPKYKPPPWWWW-----------------------------WCCCCCCCCCCCCCCCCCCCCCCCCVVVVVVVVVVVVVVVVVVVVVVVV\n",
      "FPCTMLGEEQGIAPPIGLKISPKPPPKYKPPWWWWWVVVVVVVVVVVVVVVVVVVVVVVVWWVCWWCCCCCCCCCCCCCCCCCCCCCCCC------------------------\n",
      "\u001b[91mdetect domain\u001b[0m\n",
      "WCCCCCCCCCCCCCCCCCCCCCCCC\n",
      "WCCCCCCCCCCCCCCCCCCCCCCCC\n",
      "\u001b[91m>>>alignment result\u001b[0m\n",
      "FPCTMLGEEQGIA-NLGDKIS---PPKYKPPPWWWWVVVVVVVVVVVVVVVVVVVVVVVV-----\n",
      "FPCTMLGEEQGIAPPIGLKISPKPPPKYKPPWWWWWVVVVVVVVVVVVVVVVVVVVVVVVWWVCW\n",
      "\u001b[91mdetect domain\u001b[0m\n",
      "PPKYKPPPWWWWVVVVVVVVVVVVVVVVVVVVVVVV\n",
      "PPKYKPPWWWWWVVVVVVVVVVVVVVVVVVVVVVVV\n"
     ]
    }
   ],
   "source": [
    "s1='FPCTMLGEEQGIANLGDKISPPXYXPPPWWWWWCCCCCCCCCCCCCCCCCCCCCCCCVVVVVVVVVVVVVVVVVVVVVVVV'\n",
    "s2='FPCTMLGEEQGIAPPIGLKISPKPPPXYXPPWWWWWVVVVVVVVVVVVVVVVVVVVVVVVWWVCWWCCCCCCCCCCCCCCCCCCCCCCCC'\n",
    "dp,memory=local_pairwise_align(**test_case_swapdomain)\n",
    "#w,wi=get_similar_region(dp,memory,s1,s2,current=get_tail(dp))"
   ]
  }
 ],
 "metadata": {
  "kernelspec": {
   "display_name": "Python 3",
   "language": "python",
   "name": "python3"
  },
  "language_info": {
   "codemirror_mode": {
    "name": "ipython",
    "version": 3
   },
   "file_extension": ".py",
   "mimetype": "text/x-python",
   "name": "python",
   "nbconvert_exporter": "python",
   "pygments_lexer": "ipython3",
   "version": "3.8.8"
  },
  "varInspector": {
   "cols": {
    "lenName": 16,
    "lenType": 16,
    "lenVar": 40
   },
   "kernels_config": {
    "python": {
     "delete_cmd_postfix": "",
     "delete_cmd_prefix": "del ",
     "library": "var_list.py",
     "varRefreshCmd": "print(var_dic_list())"
    },
    "r": {
     "delete_cmd_postfix": ") ",
     "delete_cmd_prefix": "rm(",
     "library": "var_list.r",
     "varRefreshCmd": "cat(var_dic_list()) "
    }
   },
   "types_to_exclude": [
    "module",
    "function",
    "builtin_function_or_method",
    "instance",
    "_Feature"
   ],
   "window_display": false
  }
 },
 "nbformat": 4,
 "nbformat_minor": 5
}

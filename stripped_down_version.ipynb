{
 "cells": [
  {
   "cell_type": "code",
   "execution_count": 3,
   "id": "c0edbcf5",
   "metadata": {},
   "outputs": [],
   "source": [
    "# previous file name:'stripped_down_version'\n",
    "# convert to 'functions' at 2022.11.9\n",
    "# now perform as a code directory for development purposes\n",
    "\n",
    "# containing pure functions:"
   ]
  },
  {
   "cell_type": "code",
   "execution_count": 1,
   "id": "4a5cf9c7",
   "metadata": {},
   "outputs": [
    {
     "name": "stdout",
     "output_type": "stream",
     "text": [
      "scoring matrix is BLOSUM62\n",
      "\u001b[91m>>>global optimal score: 220.0 \u001b[0m\n",
      "\u001b[91m>>>alignment result\u001b[0m\n",
      "YYKNMWIRVMSKWVSSWYRFFLPWCYYPSVCKCEFPCTMLGEEQGIA-NLGDKISPKNKS---LINNHDQMTDNLCKYWVKNGWD---M\n",
      "YYKN----------------MLPWCYYP-----VFPCTMLGEEQGIAPPIGLKISPKNKSYDHMINNHDQETDNCCKYWVKNGYDRYPP\n",
      "\u001b[91m>>>time report\u001b[0m\n",
      "CPU times: user 24.2 ms, sys: 2.05 ms, total: 26.2 ms\n",
      "Wall time: 25.2 ms\n"
     ]
    }
   ],
   "source": [
    "%%time\n",
    "def global_pairwise_align(s1:str,s2:str,scoring_matrix='BLOSUM62'):\n",
    "    global memory\n",
    "    l1,l2=len(s1),len(s2)\n",
    "    dp=[[[float('-inf')] for _ in range(l2+1)] for _ in range(l1+1)]\n",
    "    dp[0][0]=0\n",
    "    memory={}\n",
    "    \n",
    "    assert scoring_matrix in ['BLOSUM62','PAM250'], 'scoring_matrix should be one of BLOSUM62 and PAM250'\n",
    "    print('scoring matrix is {}'.format(scoring_matrix))\n",
    "    if scoring_matrix=='BLOSUM62':\n",
    "        import blosum as bl\n",
    "        mat = bl.BLOSUM(62) \n",
    "        gop,gep=-11,-1\n",
    "        def get_map_score(a1,a2):\n",
    "            return mat[a1+a2]\n",
    "    elif scoring_matrix=='PAM250':\n",
    "        PAM250 = {\n",
    "            'A': {'A': 2,  'C': -2, 'D':  0, 'E': 0, 'F': -3, 'G':  1, 'H': -1, 'I': -1, 'K': -1, 'L': -2, 'M': -1, 'N':  0, 'P':  1, 'Q':  0, 'R': -2, 'S':  1, 'T':  1, 'V':  0, 'W': -6, 'Y': -3},\n",
    "            'C': {'A': -2, 'C': 12, 'D': -5, 'E':-5, 'F': -4, 'G': -3, 'H': -3, 'I': -2, 'K': -5, 'L': -6, 'M': -5, 'N': -4, 'P': -3, 'Q': -5, 'R': -4, 'S':  0, 'T': -2, 'V': -2, 'W': -8, 'Y':  0},\n",
    "            'D': {'A': 0,  'C': -5, 'D':  4, 'E': 3, 'F': -6, 'G':  1, 'H':  1, 'I': -2, 'K':  0, 'L': -4, 'M': -3, 'N':  2, 'P': -1, 'Q':  2, 'R': -1, 'S':  0, 'T':  0, 'V': -2, 'W': -7, 'Y': -4},\n",
    "            'E': {'A': 0,  'C': -5, 'D':  3, 'E': 4, 'F': -5, 'G':  0, 'H':  1, 'I': -2, 'K':  0, 'L': -3, 'M': -2, 'N':  1, 'P': -1, 'Q':  2, 'R': -1, 'S':  0, 'T':  0, 'V': -2, 'W': -7, 'Y': -4},\n",
    "            'F': {'A': -3, 'C': -4, 'D': -6, 'E':-5, 'F':  9, 'G': -5, 'H': -2, 'I':  1, 'K': -5, 'L':  2, 'M':  0, 'N': -3, 'P': -5, 'Q': -5, 'R': -4, 'S': -3, 'T': -3, 'V': -1, 'W':  0, 'Y':  7},\n",
    "            'G': {'A': 1,  'C': -3, 'D':  1, 'E': 0, 'F': -5, 'G':  5, 'H': -2, 'I': -3, 'K': -2, 'L': -4, 'M': -3, 'N':  0, 'P':  0, 'Q': -1, 'R': -3, 'S':  1, 'T':  0, 'V': -1, 'W': -7, 'Y': -5},\n",
    "            'H': {'A': -1, 'C': -3, 'D':  1, 'E': 1, 'F': -2, 'G': -2, 'H':  6, 'I': -2, 'K':  0, 'L': -2, 'M': -2, 'N':  2, 'P':  0, 'Q':  3, 'R':  2, 'S': -1, 'T': -1, 'V': -2, 'W': -3, 'Y':  0},\n",
    "            'I': {'A': -1, 'C': -2, 'D': -2, 'E':-2, 'F':  1, 'G': -3, 'H': -2, 'I':  5, 'K': -2, 'L':  2, 'M':  2, 'N': -2, 'P': -2, 'Q': -2, 'R': -2, 'S': -1, 'T':  0, 'V':  4, 'W': -5, 'Y': -1},\n",
    "            'K': {'A': -1, 'C': -5, 'D':  0, 'E': 0, 'F': -5, 'G': -2, 'H':  0, 'I': -2, 'K':  5, 'L': -3, 'M':  0, 'N':  1, 'P': -1, 'Q':  1, 'R':  3, 'S':  0, 'T':  0, 'V': -2, 'W': -3, 'Y': -4},\n",
    "            'L': {'A': -2, 'C': -6, 'D': -4, 'E':-3, 'F':  2, 'G': -4, 'H': -2, 'I':  2, 'K': -3, 'L':  6, 'M':  4, 'N': -3, 'P': -3, 'Q': -2, 'R': -3, 'S': -3, 'T': -2, 'V':  2, 'W': -2, 'Y': -1},\n",
    "            'M': {'A': -1, 'C': -5, 'D': -3, 'E':-2, 'F':  0, 'G': -3, 'H': -2, 'I':  2, 'K':  0, 'L':  4, 'M':  6, 'N': -2, 'P': -2, 'Q': -1, 'R':  0, 'S': -2, 'T': -1, 'V':  2, 'W': -4, 'Y': -2},\n",
    "            'N': {'A': 0,  'C': -4, 'D':  2, 'E': 1, 'F': -3, 'G':  0, 'H':  2, 'I': -2, 'K':  1, 'L': -3, 'M': -2, 'N':  2, 'P':  0, 'Q':  1, 'R':  0, 'S':  1, 'T':  0, 'V': -2, 'W': -4, 'Y': -2},\n",
    "            'P': {'A': 1,  'C': -3, 'D': -1, 'E':-1, 'F': -5, 'G':  0, 'H':  0, 'I': -2, 'K': -1, 'L': -3, 'M': -2, 'N':  0, 'P':  6, 'Q':  0, 'R':  0, 'S':  1, 'T':  0, 'V': -1, 'W': -6, 'Y': -5},\n",
    "            'Q': {'A': 0,  'C': -5, 'D':  2, 'E': 2, 'F': -5, 'G': -1, 'H':  3, 'I': -2, 'K':  1, 'L': -2, 'M': -1, 'N':  1, 'P':  0, 'Q':  4, 'R':  1, 'S': -1, 'T': -1, 'V': -2, 'W': -5, 'Y': -4},\n",
    "            'R': {'A': -2, 'C': -4, 'D': -1, 'E':-1, 'F': -4, 'G': -3, 'H':  2, 'I': -2, 'K':  3, 'L': -3, 'M':  0, 'N':  0, 'P':  0, 'Q':  1, 'R':  6, 'S':  0, 'T': -1, 'V': -2, 'W':  2, 'Y': -4},\n",
    "            'S': {'A': 1,  'C':  0, 'D':  0, 'E': 0, 'F': -3, 'G':  1, 'H': -1, 'I': -1, 'K':  0, 'L': -3, 'M': -2, 'N':  1, 'P':  1, 'Q': -1, 'R':  0, 'S':  2, 'T':  1, 'V': -1, 'W': -2, 'Y': -3},\n",
    "            'T': {'A': 1,  'C': -2, 'D':  0, 'E': 0, 'F': -3, 'G':  0, 'H': -1, 'I':  0, 'K':  0, 'L': -2, 'M': -1, 'N':  0, 'P':  0, 'Q': -1, 'R': -1, 'S':  1, 'T':  3, 'V':  0, 'W': -5, 'Y': -3},\n",
    "            'V': {'A': 0,  'C': -2, 'D': -2, 'E':-2, 'F': -1, 'G': -1, 'H': -2, 'I':  4, 'K': -2, 'L':  2, 'M':  2, 'N': -2, 'P': -1, 'Q': -2, 'R': -2, 'S': -1, 'T':  0, 'V':  4, 'W': -6, 'Y': -2},\n",
    "            'W': {'A': -6, 'C': -8, 'D': -7, 'E':-7, 'F':  0, 'G': -7, 'H': -3, 'I': -5, 'K': -3, 'L': -2, 'M': -4, 'N': -4, 'P': -6, 'Q': -5, 'R':  2, 'S': -2, 'T': -5, 'V': -6, 'W': 17, 'Y':  0},\n",
    "            'Y': {'A': -3, 'C':  0, 'D': -4, 'E':-4, 'F':  7, 'G': -5, 'H':  0, 'I': -1, 'K': -4, 'L': -1, 'M': -2, 'N': -2, 'P': -5, 'Q': -4, 'R': -4, 'S': -3, 'T': -3, 'V': -2, 'W':  0, 'Y': 10},\n",
    "        }\n",
    "        gop,gep=-12,-4\n",
    "        def get_map_score(a1,a2):\n",
    "            return PAM250[a1][a2]\n",
    "        \n",
    "    def get_score(m,n,pm,pn):\n",
    "        score=0\n",
    "        if pm==m-1 and pn==n-1:\n",
    "            score=get_map_score(s1[pm],s2[pn])\n",
    "        elif pm==m:\n",
    "            score=gop if (not (pm,pn) in memory) or memory[(pm,pn)][0]!=m else gep\n",
    "        elif pn==n:\n",
    "            score=gop if (not (pm,pn) in memory) or memory[(pm,pn)][1]!=n else gep\n",
    "        return dp[pm][pn]+score\n",
    "    \n",
    "    def get_possible_previous_position(i,j):\n",
    "        if i==0:\n",
    "            return [(i,j-1)]\n",
    "        elif j==0:\n",
    "            return [(i-1,j)]\n",
    "        else:\n",
    "            return [(i-1,j-1),(i-1,j),(i,j-1)]\n",
    "    \n",
    "    def trace_alignment(dp,memory,s1,s2):\n",
    "        l1,l2=len(dp),len(dp[0])\n",
    "        rs1,rs2='',''\n",
    "        current=(l1-1,l2-1)\n",
    "        last=memory[current]\n",
    "        while last != (0,0):\n",
    "            last=memory[current]\n",
    "            cm,cn=current\n",
    "            lm,ln=last\n",
    "            rs1=rs1+'-' if lm==cm else rs1+s1[current[0]-1]\n",
    "            rs2=rs2+'-' if ln==cn else rs2+s2[current[1]-1]\n",
    "            current=last\n",
    "        print('\\033[91m>>>alignment result\\033[0m')\n",
    "        print(rs1[::-1])\n",
    "        print(rs2[::-1])\n",
    "    \n",
    "    all_position=(lambda x,y :[(z0,z1) for z0 in range(x) for z1 in range(y)])(l1+1,l2+1)[1:]\n",
    "    for m,n in all_position:\n",
    "        previous=get_possible_previous_position(m,n)\n",
    "        choice=[]\n",
    "        for pm,pn in previous:\n",
    "            score=get_score(m,n,pm,pn)\n",
    "            choice.append((score,(pm,pn)))\n",
    "        choice.sort(key=lambda tup: tup[0], reverse=True)\n",
    "        lm,ln=choice[0][1][0],choice[0][1][1]\n",
    "        dp[m][n]=choice[0][0]\n",
    "        memory[(m,n)]=choice[0][1]\n",
    "\n",
    "    print('\\033[91m>>>global optimal score:',dp[-1][-1],'\\033[0m')\n",
    "    trace_alignment(dp,memory,s1,s2)\n",
    "    return dp, memory\n",
    "\n",
    "test_case={\n",
    "'s1':'YYKNMWIRVMSKWVSSWYRFFLPWCYYPSVCKCEFPCTMLGEEQGIANLGDKISPKNKSLINNHDQMTDNLCKYWVKNGWDM',\n",
    "'s2':'YYKNMLPWCYYPVFPCTMLGEEQGIAPPIGLKISPKNKSYDHMINNHDQETDNCCKYWVKNGYDRYPP'\n",
    "}\n",
    "\n",
    "dp,memory=global_pairwise_align(**test_case)\n",
    "print('\\033[91m>>>time report\\033[0m')"
   ]
  },
  {
   "cell_type": "code",
   "execution_count": 2,
   "id": "a1d1be41",
   "metadata": {},
   "outputs": [],
   "source": [
    "def test():\n",
    "    print('import function test')"
   ]
  }
 ],
 "metadata": {
  "kernelspec": {
   "display_name": "Python 3",
   "language": "python",
   "name": "python3"
  },
  "language_info": {
   "codemirror_mode": {
    "name": "ipython",
    "version": 3
   },
   "file_extension": ".py",
   "mimetype": "text/x-python",
   "name": "python",
   "nbconvert_exporter": "python",
   "pygments_lexer": "ipython3",
   "version": "3.8.8"
  },
  "varInspector": {
   "cols": {
    "lenName": 16,
    "lenType": 16,
    "lenVar": 40
   },
   "kernels_config": {
    "python": {
     "delete_cmd_postfix": "",
     "delete_cmd_prefix": "del ",
     "library": "var_list.py",
     "varRefreshCmd": "print(var_dic_list())"
    },
    "r": {
     "delete_cmd_postfix": ") ",
     "delete_cmd_prefix": "rm(",
     "library": "var_list.r",
     "varRefreshCmd": "cat(var_dic_list()) "
    }
   },
   "types_to_exclude": [
    "module",
    "function",
    "builtin_function_or_method",
    "instance",
    "_Feature"
   ],
   "window_display": false
  }
 },
 "nbformat": 4,
 "nbformat_minor": 5
}
